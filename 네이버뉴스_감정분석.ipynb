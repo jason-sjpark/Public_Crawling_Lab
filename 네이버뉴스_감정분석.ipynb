{
  "cells": [
    {
      "cell_type": "markdown",
      "metadata": {
        "id": "CBUyZtZUS_kK"
      },
      "source": [
        "# 네이버 뉴스 연구 마스터 테이블 만들기"
      ]
    },
    {
      "cell_type": "code",
      "execution_count": null,
      "metadata": {
        "id": "ZAMukiyhS_kS"
      },
      "outputs": [],
      "source": [
        "import pandas as pd\n",
        "import polars as pl\n",
        "import json\n",
        "from tqdm import tqdm\n",
        "from json import JSONDecodeError\n",
        "import pickle"
      ]
    },
    {
      "cell_type": "code",
      "execution_count": null,
      "metadata": {
        "id": "cgoQWICWS_kW",
        "outputId": "edc87ae8-1747-47ff-b85f-12848ce747b0"
      },
      "outputs": [
        {
          "data": {
            "text/html": [
              "<div>\n",
              "<style scoped>\n",
              "    .dataframe tbody tr th:only-of-type {\n",
              "        vertical-align: middle;\n",
              "    }\n",
              "\n",
              "    .dataframe tbody tr th {\n",
              "        vertical-align: top;\n",
              "    }\n",
              "\n",
              "    .dataframe thead th {\n",
              "        text-align: right;\n",
              "    }\n",
              "</style>\n",
              "<table border=\"1\" class=\"dataframe\">\n",
              "  <thead>\n",
              "    <tr style=\"text-align: right;\">\n",
              "      <th></th>\n",
              "      <th>idx</th>\n",
              "      <th>title</th>\n",
              "      <th>inclusion</th>\n",
              "      <th>date</th>\n",
              "      <th>n_reply</th>\n",
              "      <th>url</th>\n",
              "    </tr>\n",
              "  </thead>\n",
              "  <tbody>\n",
              "    <tr>\n",
              "      <th>0</th>\n",
              "      <td>0</td>\n",
              "      <td>文 \"원전, 60년 주력 전원…신한울 1·2호기 이른시간 내 가동\"(종합2보)</td>\n",
              "      <td>1.0</td>\n",
              "      <td>2022.02.25. 오후 8:13</td>\n",
              "      <td>999</td>\n",
              "      <td>https://n.news.naver.com/mnews/article/001/001...</td>\n",
              "    </tr>\n",
              "    <tr>\n",
              "      <th>2</th>\n",
              "      <td>2</td>\n",
              "      <td>원전 확대·4대강사업 계승…MB 시절 사회갈등 되풀이하나</td>\n",
              "      <td>1.0</td>\n",
              "      <td>2022.03.15. 오전 5:01</td>\n",
              "      <td>984</td>\n",
              "      <td>https://n.news.naver.com/mnews/article/028/000...</td>\n",
              "    </tr>\n",
              "    <tr>\n",
              "      <th>3</th>\n",
              "      <td>3</td>\n",
              "      <td>與 “원자력 소외된 아픔 드린 것 사과”… 원전 전문가도 영입</td>\n",
              "      <td>1.0</td>\n",
              "      <td>2022.01.27. 오후 4:21</td>\n",
              "      <td>979</td>\n",
              "      <td>https://n.news.naver.com/mnews/article/023/000...</td>\n",
              "    </tr>\n",
              "    <tr>\n",
              "      <th>5</th>\n",
              "      <td>5</td>\n",
              "      <td>탈원전에 3~5년 늦어진 원전… 文대통령, 이제와서 “조기가동”</td>\n",
              "      <td>1.0</td>\n",
              "      <td>2022.02.25. 오후 6:37</td>\n",
              "      <td>948</td>\n",
              "      <td>https://n.news.naver.com/mnews/article/366/000...</td>\n",
              "    </tr>\n",
              "    <tr>\n",
              "      <th>7</th>\n",
              "      <td>7</td>\n",
              "      <td>헝가리 이어 체코 정상도…문대통령 앞에서 연이은 원전발언</td>\n",
              "      <td>1.0</td>\n",
              "      <td>2021.11.04. 오후 11:13</td>\n",
              "      <td>927</td>\n",
              "      <td>https://n.news.naver.com/mnews/article/001/001...</td>\n",
              "    </tr>\n",
              "    <tr>\n",
              "      <th>...</th>\n",
              "      <td>...</td>\n",
              "      <td>...</td>\n",
              "      <td>...</td>\n",
              "      <td>...</td>\n",
              "      <td>...</td>\n",
              "      <td>...</td>\n",
              "    </tr>\n",
              "    <tr>\n",
              "      <th>501</th>\n",
              "      <td>501</td>\n",
              "      <td>이제야 '탈원전 족쇄' 푸는 정부…원전 수명 다시 늘린다</td>\n",
              "      <td>1.0</td>\n",
              "      <td>2022.04.06. 오후 5:55</td>\n",
              "      <td>101</td>\n",
              "      <td>https://n.news.naver.com/mnews/article/009/000...</td>\n",
              "    </tr>\n",
              "    <tr>\n",
              "      <th>503</th>\n",
              "      <td>503</td>\n",
              "      <td>이재명 \"2040년 내연차 판매중단\"…탄소세도 공식화</td>\n",
              "      <td>1.0</td>\n",
              "      <td>2021.08.26. 오전 10:59</td>\n",
              "      <td>100</td>\n",
              "      <td>https://n.news.naver.com/mnews/article/001/001...</td>\n",
              "    </tr>\n",
              "    <tr>\n",
              "      <th>504</th>\n",
              "      <td>504</td>\n",
              "      <td>文대통령 \"韓 수소경제 빠르게 성장...세계최고 수준 기술\"</td>\n",
              "      <td>1.0</td>\n",
              "      <td>2021.11.11. 오후 12:35</td>\n",
              "      <td>100</td>\n",
              "      <td>https://n.news.naver.com/mnews/article/008/000...</td>\n",
              "    </tr>\n",
              "    <tr>\n",
              "      <th>505</th>\n",
              "      <td>505</td>\n",
              "      <td>\"대선후 전기료 더 오를듯\"…한전 올해 10조 적자 불가피</td>\n",
              "      <td>1.0</td>\n",
              "      <td>2022.02.06. 오후 5:25</td>\n",
              "      <td>100</td>\n",
              "      <td>https://n.news.naver.com/mnews/article/009/000...</td>\n",
              "    </tr>\n",
              "    <tr>\n",
              "      <th>506</th>\n",
              "      <td>506</td>\n",
              "      <td>尹 “실용주의·경제 가장 중요”…文 탈원전·부동산 대수술</td>\n",
              "      <td>1.0</td>\n",
              "      <td>2022.03.26. 오후 7:36</td>\n",
              "      <td>100</td>\n",
              "      <td>https://n.news.naver.com/mnews/article/018/000...</td>\n",
              "    </tr>\n",
              "  </tbody>\n",
              "</table>\n",
              "<p>258 rows × 6 columns</p>\n",
              "</div>"
            ],
            "text/plain": [
              "     idx                                        title  inclusion   \n",
              "0      0  文 \"원전, 60년 주력 전원…신한울 1·2호기 이른시간 내 가동\"(종합2보)        1.0  \\\n",
              "2      2              원전 확대·4대강사업 계승…MB 시절 사회갈등 되풀이하나        1.0   \n",
              "3      3           與 “원자력 소외된 아픔 드린 것 사과”… 원전 전문가도 영입        1.0   \n",
              "5      5          탈원전에 3~5년 늦어진 원전… 文대통령, 이제와서 “조기가동”        1.0   \n",
              "7      7              헝가리 이어 체코 정상도…문대통령 앞에서 연이은 원전발언        1.0   \n",
              "..   ...                                          ...        ...   \n",
              "501  501              이제야 '탈원전 족쇄' 푸는 정부…원전 수명 다시 늘린다        1.0   \n",
              "503  503                이재명 \"2040년 내연차 판매중단\"…탄소세도 공식화        1.0   \n",
              "504  504            文대통령 \"韓 수소경제 빠르게 성장...세계최고 수준 기술\"        1.0   \n",
              "505  505             \"대선후 전기료 더 오를듯\"…한전 올해 10조 적자 불가피        1.0   \n",
              "506  506              尹 “실용주의·경제 가장 중요”…文 탈원전·부동산 대수술        1.0   \n",
              "\n",
              "                     date  n_reply   \n",
              "0     2022.02.25. 오후 8:13      999  \\\n",
              "2     2022.03.15. 오전 5:01      984   \n",
              "3     2022.01.27. 오후 4:21      979   \n",
              "5     2022.02.25. 오후 6:37      948   \n",
              "7    2021.11.04. 오후 11:13      927   \n",
              "..                    ...      ...   \n",
              "501   2022.04.06. 오후 5:55      101   \n",
              "503  2021.08.26. 오전 10:59      100   \n",
              "504  2021.11.11. 오후 12:35      100   \n",
              "505   2022.02.06. 오후 5:25      100   \n",
              "506   2022.03.26. 오후 7:36      100   \n",
              "\n",
              "                                                   url  \n",
              "0    https://n.news.naver.com/mnews/article/001/001...  \n",
              "2    https://n.news.naver.com/mnews/article/028/000...  \n",
              "3    https://n.news.naver.com/mnews/article/023/000...  \n",
              "5    https://n.news.naver.com/mnews/article/366/000...  \n",
              "7    https://n.news.naver.com/mnews/article/001/001...  \n",
              "..                                                 ...  \n",
              "501  https://n.news.naver.com/mnews/article/009/000...  \n",
              "503  https://n.news.naver.com/mnews/article/001/001...  \n",
              "504  https://n.news.naver.com/mnews/article/008/000...  \n",
              "505  https://n.news.naver.com/mnews/article/009/000...  \n",
              "506  https://n.news.naver.com/mnews/article/018/000...  \n",
              "\n",
              "[258 rows x 6 columns]"
            ]
          },
          "execution_count": 2,
          "metadata": {},
          "output_type": "execute_result"
        }
      ],
      "source": [
        "df = pd.read_excel('./final_simple_stat.xlsx')\n",
        "df = df.dropna(subset=['inclusion'])\n",
        "df = df.loc[df['inclusion']==1.0]\n",
        "df"
      ]
    },
    {
      "cell_type": "code",
      "execution_count": null,
      "metadata": {
        "id": "fbjj1HjTS_kY"
      },
      "outputs": [],
      "source": [
        "# 연구 대상 json 파일\n",
        "file_list = df['idx'].tolist()"
      ]
    },
    {
      "cell_type": "code",
      "execution_count": null,
      "metadata": {
        "id": "FzEPaGgLS_ka"
      },
      "outputs": [],
      "source": [
        "del df"
      ]
    },
    {
      "cell_type": "code",
      "execution_count": null,
      "metadata": {
        "id": "xVtFdJyvS_kb"
      },
      "outputs": [],
      "source": [
        "# 댓글 제외 json\n",
        "json_list = []\n",
        "for file in tqdm(file_list):\n",
        "    try:\n",
        "        with open(f'./news_json_files/{file}.json',encoding='utf-8-sig') as f:\n",
        "            json_object = json.load(f)\n",
        "        del json_object['dic_reply']\n",
        "        json_object['idx'] = file\n",
        "        json_list.append(json_object)\n",
        "    except JSONDecodeError:\n",
        "        print(file)\n",
        "    except FileNotFoundError:\n",
        "        print(f'{file} is not found')"
      ]
    },
    {
      "cell_type": "code",
      "execution_count": null,
      "metadata": {
        "id": "2fassFNoS_kc"
      },
      "outputs": [],
      "source": [
        "del json_object"
      ]
    },
    {
      "cell_type": "code",
      "execution_count": null,
      "metadata": {
        "id": "1RAWZ1VWS_kd"
      },
      "outputs": [],
      "source": [
        "news = pd.DataFrame(json_list)\n",
        "news"
      ]
    },
    {
      "cell_type": "code",
      "execution_count": null,
      "metadata": {
        "id": "T0nXBzFqS_ke"
      },
      "outputs": [],
      "source": [
        "news.to_pickle('./news_df.pkl')"
      ]
    },
    {
      "cell_type": "code",
      "execution_count": null,
      "metadata": {
        "id": "tL5axLJcS_kf"
      },
      "outputs": [],
      "source": [
        "del json_list, news"
      ]
    },
    {
      "cell_type": "code",
      "execution_count": null,
      "metadata": {
        "id": "vztHDLmGS_kg"
      },
      "outputs": [],
      "source": [
        "# with open('./json_reply_list.pkl','wb') as f:\n",
        "#     pickle.dump(json_reply_list,f)"
      ]
    },
    {
      "cell_type": "markdown",
      "metadata": {
        "id": "Nyo9gVJoS_kh"
      },
      "source": [
        "### 기사 댓글 (댓글 + 대댓글) 전처리"
      ]
    },
    {
      "cell_type": "code",
      "execution_count": null,
      "metadata": {
        "id": "kbYBqD-cS_kh"
      },
      "outputs": [],
      "source": [
        "# 댓글 + 대댓글 json\n",
        "json_reply_list = []\n",
        "for file in tqdm(file_list):\n",
        "    try:\n",
        "        with open(f'./news_json_files/{file}.json',encoding='utf-8-sig') as f:\n",
        "            json_object = json.load(f)\n",
        "        temp = {}\n",
        "        temp['idx'] = file\n",
        "        temp['reply'] = [r['reply_text'] for r in json_object['dic_reply'] if r['reply_text']!=''] + [s['son_reply_text'] for r in json_object['dic_reply'] for s in r['dic_son_reply'] if s['son_reply_text']!='']\n",
        "        # json_reply_list.append({key:json_object[key] for key in ['idx','reply']})\n",
        "        json_reply_list.append(temp)\n",
        "    except JSONDecodeError:\n",
        "        print(file)\n",
        "    except FileNotFoundError:\n",
        "        print(f'{file} is not found')"
      ]
    },
    {
      "cell_type": "code",
      "execution_count": null,
      "metadata": {
        "id": "h2b1xRhbS_ki"
      },
      "outputs": [],
      "source": [
        "pd.DataFrame(json_reply_list).to_pickle('./reply_df.pkl')"
      ]
    },
    {
      "cell_type": "markdown",
      "metadata": {
        "id": "lleGOxz6S_kj"
      },
      "source": [
        "### 유저별 과거 이력 정보"
      ]
    },
    {
      "cell_type": "code",
      "execution_count": null,
      "metadata": {
        "id": "VHVL9XUvS_kk"
      },
      "outputs": [],
      "source": [
        "#  'user_id': '1QScg',\n",
        "#  'nickname': 'joon****',\n",
        "#  'user_real_nickname': '이리오너라',\n",
        "#  'start_date': '2018.01.02.',\n",
        "#  'sum_reply': '1', # 댓글\n",
        "#  'sum_son_reply': '3', # 답글\n",
        "#  'sum_emotion': '17', # 받은 공감 (좋아요/싫어요 합)\n",
        "#  'recent_n_reply': '0',\n",
        "#  'recent_n_deleted': '0',\n",
        "#  'recent_n_emotion': '0',\n",
        "#  'recent_rate_emotion': '0%',\n",
        "#  'recent_rate_self_delete': '0%'\n",
        "# [r['dic_history'] for r in df['dic_reply'][0]][0]"
      ]
    },
    {
      "cell_type": "code",
      "execution_count": null,
      "metadata": {
        "id": "A2TVNNuRS_kl"
      },
      "outputs": [],
      "source": [
        "len(file_list)"
      ]
    },
    {
      "cell_type": "code",
      "execution_count": null,
      "metadata": {
        "id": "tIvFFoTnS_kl"
      },
      "outputs": [],
      "source": [
        "# 댓글 유저 히스토리 json\n",
        "json_hist_list = []\n",
        "for file in tqdm(file_list):\n",
        "    try:\n",
        "        with open(f'./news_json_files/{file}.json',encoding='utf-8-sig') as f:\n",
        "            json_object = json.load(f)\n",
        "        temp = {}\n",
        "        temp['idx'] = file\n",
        "        temp['dic_history'] = [r['dic_history'] for r in json_object['dic_reply']]\n",
        "        temp['dic_history'] = [{key:d[key] for key in list(d.keys())[:-1]} for d in temp['dic_history'] if d!='']\n",
        "        # json_reply_list.append({key:json_object[key] for key in ['idx','reply']})\n",
        "        json_hist_list.append(temp)\n",
        "    except JSONDecodeError:\n",
        "        print(file)\n",
        "    except FileNotFoundError:\n",
        "        print(f'{file} is not found')"
      ]
    },
    {
      "cell_type": "code",
      "execution_count": null,
      "metadata": {
        "id": "-auYivTES_km"
      },
      "outputs": [],
      "source": [
        "pd.DataFrame(json_hist_list).to_pickle('./reply_user_df.pkl')"
      ]
    },
    {
      "cell_type": "markdown",
      "metadata": {
        "id": "D0BcezGaS_kn"
      },
      "source": [
        "### 유저별 과거 댓글 정보"
      ]
    },
    {
      "cell_type": "code",
      "execution_count": null,
      "metadata": {
        "id": "m1ar8BayS_kn"
      },
      "outputs": [],
      "source": [
        "# 댓글 유저 과거 댓글 json\n",
        "json_hist_reply_list = []\n",
        "for file in tqdm(file_list):\n",
        "    try:\n",
        "        with open(f'./news_json_files/{file}.json',encoding='utf-8-sig') as f:\n",
        "            json_object = json.load(f)\n",
        "        # temp = {}\n",
        "        # temp['idx'] = file\n",
        "        dic_history = [r['dic_history'] for r in json_object['dic_reply']]\n",
        "        # temp['user_id'] = [{d['user_id']} for d in dic_history if d!='']\n",
        "        # temp['dic_reply_history'] = [{d['dic_reply_history']} for d in dic_history if d!='']\n",
        "        json_hist_reply_list.append([{key:d[key] for key in ['user_id','dic_reply_history']} for d in dic_history if d!=''])\n",
        "        # json_hist_reply_list.append(temp)\n",
        "    except JSONDecodeError:\n",
        "        print(file)\n",
        "    except FileNotFoundError:\n",
        "        print(f'{file} is not found')"
      ]
    },
    {
      "cell_type": "markdown",
      "metadata": {
        "id": "1faB7ty4S_ko"
      },
      "source": [
        "### 감정/혐오 분류"
      ]
    },
    {
      "cell_type": "code",
      "source": [
        "!pip install transformers"
      ],
      "metadata": {
        "colab": {
          "base_uri": "https://localhost:8080/"
        },
        "id": "kOelr0FLT4Ye",
        "outputId": "a32f72bc-dcc6-480f-8103-c8699e5f95a5"
      },
      "execution_count": null,
      "outputs": [
        {
          "output_type": "stream",
          "name": "stdout",
          "text": [
            "Looking in indexes: https://pypi.org/simple, https://us-python.pkg.dev/colab-wheels/public/simple/\n",
            "Collecting transformers\n",
            "  Downloading transformers-4.29.1-py3-none-any.whl (7.1 MB)\n",
            "\u001b[2K     \u001b[90m━━━━━━━━━━━━━━━━━━━━━━━━━━━━━━━━━━━━━━━━\u001b[0m \u001b[32m7.1/7.1 MB\u001b[0m \u001b[31m39.9 MB/s\u001b[0m eta \u001b[36m0:00:00\u001b[0m\n",
            "\u001b[?25hRequirement already satisfied: filelock in /usr/local/lib/python3.10/dist-packages (from transformers) (3.12.0)\n",
            "Collecting huggingface-hub<1.0,>=0.14.1 (from transformers)\n",
            "  Downloading huggingface_hub-0.14.1-py3-none-any.whl (224 kB)\n",
            "\u001b[2K     \u001b[90m━━━━━━━━━━━━━━━━━━━━━━━━━━━━━━━━━━━━━━\u001b[0m \u001b[32m224.5/224.5 kB\u001b[0m \u001b[31m21.5 MB/s\u001b[0m eta \u001b[36m0:00:00\u001b[0m\n",
            "\u001b[?25hRequirement already satisfied: numpy>=1.17 in /usr/local/lib/python3.10/dist-packages (from transformers) (1.22.4)\n",
            "Requirement already satisfied: packaging>=20.0 in /usr/local/lib/python3.10/dist-packages (from transformers) (23.1)\n",
            "Requirement already satisfied: pyyaml>=5.1 in /usr/local/lib/python3.10/dist-packages (from transformers) (6.0)\n",
            "Requirement already satisfied: regex!=2019.12.17 in /usr/local/lib/python3.10/dist-packages (from transformers) (2022.10.31)\n",
            "Requirement already satisfied: requests in /usr/local/lib/python3.10/dist-packages (from transformers) (2.27.1)\n",
            "Collecting tokenizers!=0.11.3,<0.14,>=0.11.1 (from transformers)\n",
            "  Downloading tokenizers-0.13.3-cp310-cp310-manylinux_2_17_x86_64.manylinux2014_x86_64.whl (7.8 MB)\n",
            "\u001b[2K     \u001b[90m━━━━━━━━━━━━━━━━━━━━━━━━━━━━━━━━━━━━━━━━\u001b[0m \u001b[32m7.8/7.8 MB\u001b[0m \u001b[31m83.3 MB/s\u001b[0m eta \u001b[36m0:00:00\u001b[0m\n",
            "\u001b[?25hRequirement already satisfied: tqdm>=4.27 in /usr/local/lib/python3.10/dist-packages (from transformers) (4.65.0)\n",
            "Requirement already satisfied: fsspec in /usr/local/lib/python3.10/dist-packages (from huggingface-hub<1.0,>=0.14.1->transformers) (2023.4.0)\n",
            "Requirement already satisfied: typing-extensions>=3.7.4.3 in /usr/local/lib/python3.10/dist-packages (from huggingface-hub<1.0,>=0.14.1->transformers) (4.5.0)\n",
            "Requirement already satisfied: urllib3<1.27,>=1.21.1 in /usr/local/lib/python3.10/dist-packages (from requests->transformers) (1.26.15)\n",
            "Requirement already satisfied: certifi>=2017.4.17 in /usr/local/lib/python3.10/dist-packages (from requests->transformers) (2022.12.7)\n",
            "Requirement already satisfied: charset-normalizer~=2.0.0 in /usr/local/lib/python3.10/dist-packages (from requests->transformers) (2.0.12)\n",
            "Requirement already satisfied: idna<4,>=2.5 in /usr/local/lib/python3.10/dist-packages (from requests->transformers) (3.4)\n",
            "Installing collected packages: tokenizers, huggingface-hub, transformers\n",
            "Successfully installed huggingface-hub-0.14.1 tokenizers-0.13.3 transformers-4.29.1\n"
          ]
        }
      ]
    },
    {
      "cell_type": "code",
      "execution_count": 11,
      "metadata": {
        "id": "SHYxiKRvS_kp"
      },
      "outputs": [],
      "source": [
        "#혐오 발언에 대한 분류\n",
        "from transformers import TextClassificationPipeline, BertForSequenceClassification, AutoTokenizer\n",
        "model_name = 'sgunderscore/hatescore-korean-hate-speech'\n",
        "model = BertForSequenceClassification.from_pretrained(model_name)\n",
        "tokenizer = AutoTokenizer.from_pretrained(model_name)\n",
        "pipe = TextClassificationPipeline(\n",
        "        model = model,\n",
        "        tokenizer = tokenizer,\n",
        "        # device = 0, # gpu: 0\n",
        "        top_k=None,\n",
        "        function_to_apply = 'sigmoid')"
      ]
    },
    {
      "cell_type": "code",
      "execution_count": 14,
      "metadata": {
        "colab": {
          "base_uri": "https://localhost:8080/"
        },
        "id": "7t51hxWkS_kq",
        "outputId": "d939f6fc-4264-4d23-b821-ef156ff361f7"
      },
      "outputs": [
        {
          "output_type": "stream",
          "name": "stdout",
          "text": [
            "{'label': '인종/국적', 'score': 0.9042615294456482}\n",
            "{'label': 'None', 'score': 0.1099800392985344}\n",
            "{'label': '종교', 'score': 0.03681234270334244}\n",
            "{'label': '기타 혐오', 'score': 0.029042314738035202}\n",
            "{'label': '지역', 'score': 0.018468299880623817}\n",
            "{'label': '단순 악플', 'score': 0.015187964774668217}\n",
            "{'label': '여성/가족', 'score': 0.013147241435945034}\n",
            "{'label': '성소수자', 'score': 0.012589571997523308}\n",
            "{'label': '연령', 'score': 0.012162875384092331}\n",
            "{'label': '남성', 'score': 0.010752644389867783}\n"
          ]
        }
      ],
      "source": [
        "for result in pipe(\"\")[0]:\n",
        "        print(result)"
      ]
    },
    {
      "cell_type": "code",
      "execution_count": 16,
      "metadata": {
        "id": "hlTQR_b_S_kq"
      },
      "outputs": [],
      "source": [
        "#댓글 감정 분석\n",
        "from transformers import AutoTokenizer, AutoModelForSequenceClassification, TextClassificationPipeline\n",
        "\n",
        "model_name = \"searle-j/kote_for_easygoing_people\"\n",
        "model = AutoModelForSequenceClassification.from_pretrained(model_name)\n",
        "tokenizer = AutoTokenizer.from_pretrained(model_name)\n",
        "\n",
        "pipe = TextClassificationPipeline(\n",
        "        model=model,\n",
        "        tokenizer=tokenizer,\n",
        "        device=-1, # gpu number, -1 if cpu used\n",
        "        top_k=None,\n",
        "        function_to_apply='sigmoid'\n",
        "    )"
      ]
    },
    {
      "cell_type": "code",
      "execution_count": 17,
      "metadata": {
        "colab": {
          "base_uri": "https://localhost:8080/"
        },
        "id": "BLpUF0O2S_kr",
        "outputId": "632bdb87-2fb7-491a-ca9d-b65b001fcacd"
      },
      "outputs": [
        {
          "output_type": "stream",
          "name": "stdout",
          "text": [
            "{'label': '화남/분노', 'score': 0.9090842008590698}\n",
            "{'label': '증오/혐오', 'score': 0.771856427192688}\n",
            "{'label': '비장함', 'score': 0.5468642711639404}\n",
            "{'label': '불평/불만', 'score': 0.4599364399909973}\n"
          ]
        }
      ],
      "source": [
        "for output in pipe(\"\"\"장담하는데 너는 곱게 죽지 못한다.!! 왜? 국민이 이를 갈고 있거든..!!\"\"\")[0]:\n",
        "    if output[\"score\"]>0.4:\n",
        "        print(output)"
      ]
    },
    {
      "cell_type": "code",
      "source": [
        "for output in pipe(\"\"\"저질들이 나라를 잠식하면 오늘날 이모양 이꼴이 되죠. 국민이 속아서 그렇게 된거이니 이제부터 절대 속지 맙시다.! 저들은 이제 절대 사회에서 활동 못하게 해야 합니다.!!\"\"\")[0]:\n",
        "    if output[\"score\"]>0.4:\n",
        "        print(output)"
      ],
      "metadata": {
        "colab": {
          "base_uri": "https://localhost:8080/"
        },
        "id": "0mTC7Af2V4X9",
        "outputId": "d71f5261-77d5-4433-a7e6-28f54142b685"
      },
      "execution_count": 18,
      "outputs": [
        {
          "output_type": "stream",
          "name": "stdout",
          "text": [
            "{'label': '화남/분노', 'score': 0.9827980399131775}\n",
            "{'label': '불평/불만', 'score': 0.9427919387817383}\n",
            "{'label': '증오/혐오', 'score': 0.9233428835868835}\n",
            "{'label': '의심/불신', 'score': 0.8942246437072754}\n",
            "{'label': '안타까움/실망', 'score': 0.7989993691444397}\n",
            "{'label': '비장함', 'score': 0.7964633703231812}\n",
            "{'label': '짜증', 'score': 0.7653007507324219}\n",
            "{'label': '한심함', 'score': 0.5697562098503113}\n",
            "{'label': '불안/걱정', 'score': 0.4971129596233368}\n",
            "{'label': '지긋지긋', 'score': 0.461895614862442}\n",
            "{'label': '역겨움/징그러움', 'score': 0.45308905839920044}\n"
          ]
        }
      ]
    }
  ],
  "metadata": {
    "kernelspec": {
      "display_name": "hatescore",
      "language": "python",
      "name": "python3"
    },
    "language_info": {
      "codemirror_mode": {
        "name": "ipython",
        "version": 3
      },
      "file_extension": ".py",
      "mimetype": "text/x-python",
      "name": "python",
      "nbconvert_exporter": "python",
      "pygments_lexer": "ipython3",
      "version": "3.8.16"
    },
    "orig_nbformat": 4,
    "vscode": {
      "interpreter": {
        "hash": "af7b26e1e7f9612cc67ac5a5f533c9500ac6267ba98ea09fce2e2436c32d973e"
      }
    },
    "colab": {
      "provenance": []
    }
  },
  "nbformat": 4,
  "nbformat_minor": 0
}